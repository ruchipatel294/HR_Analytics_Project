{
 "cells": [
  {
   "cell_type": "markdown",
   "id": "a9574ab1",
   "metadata": {},
   "source": [
    "# Objective: Identify the best source of recruitment for a tech startup, based on previous data of candidate sources and recruitment strategies\n",
    "\n"
   ]
  },
  {
   "cell_type": "code",
   "execution_count": 2,
   "id": "a7facc99",
   "metadata": {},
   "outputs": [],
   "source": [
    "import pandas as pd\n",
    "import numpy as np\n",
    "import matplotlib.pyplot as plt\n",
    "import seaborn as sns\n",
    "\n",
    "#supress warnings\n",
    "import warnings\n",
    "warnings.filterwarnings(\"ignore\")"
   ]
  },
  {
   "cell_type": "code",
   "execution_count": 3,
   "id": "80713505",
   "metadata": {},
   "outputs": [],
   "source": [
    "df_hr = pd.read_csv(\"C:/Users/hp/Desktop/desktop data/EDA/HR_project/Recruitment_Data.csv\")"
   ]
  },
  {
   "cell_type": "code",
   "execution_count": 4,
   "id": "43ffab9f",
   "metadata": {},
   "outputs": [
    {
     "data": {
      "text/html": [
       "<div>\n",
       "<style scoped>\n",
       "    .dataframe tbody tr th:only-of-type {\n",
       "        vertical-align: middle;\n",
       "    }\n",
       "\n",
       "    .dataframe tbody tr th {\n",
       "        vertical-align: top;\n",
       "    }\n",
       "\n",
       "    .dataframe thead th {\n",
       "        text-align: right;\n",
       "    }\n",
       "</style>\n",
       "<table border=\"1\" class=\"dataframe\">\n",
       "  <thead>\n",
       "    <tr style=\"text-align: right;\">\n",
       "      <th></th>\n",
       "      <th>attrition</th>\n",
       "      <th>performance_rating</th>\n",
       "      <th>sales_quota_pct</th>\n",
       "      <th>recruiting_source</th>\n",
       "    </tr>\n",
       "  </thead>\n",
       "  <tbody>\n",
       "    <tr>\n",
       "      <th>0</th>\n",
       "      <td>1</td>\n",
       "      <td>3</td>\n",
       "      <td>1.088190</td>\n",
       "      <td>Applied Online</td>\n",
       "    </tr>\n",
       "    <tr>\n",
       "      <th>1</th>\n",
       "      <td>0</td>\n",
       "      <td>3</td>\n",
       "      <td>2.394173</td>\n",
       "      <td>NaN</td>\n",
       "    </tr>\n",
       "    <tr>\n",
       "      <th>2</th>\n",
       "      <td>1</td>\n",
       "      <td>2</td>\n",
       "      <td>0.497530</td>\n",
       "      <td>Campus</td>\n",
       "    </tr>\n",
       "    <tr>\n",
       "      <th>3</th>\n",
       "      <td>0</td>\n",
       "      <td>2</td>\n",
       "      <td>2.513958</td>\n",
       "      <td>NaN</td>\n",
       "    </tr>\n",
       "    <tr>\n",
       "      <th>4</th>\n",
       "      <td>0</td>\n",
       "      <td>3</td>\n",
       "      <td>1.424789</td>\n",
       "      <td>Applied Online</td>\n",
       "    </tr>\n",
       "  </tbody>\n",
       "</table>\n",
       "</div>"
      ],
      "text/plain": [
       "   attrition  performance_rating  sales_quota_pct recruiting_source\n",
       "0          1                   3         1.088190    Applied Online\n",
       "1          0                   3         2.394173               NaN\n",
       "2          1                   2         0.497530            Campus\n",
       "3          0                   2         2.513958               NaN\n",
       "4          0                   3         1.424789    Applied Online"
      ]
     },
     "execution_count": 4,
     "metadata": {},
     "output_type": "execute_result"
    }
   ],
   "source": [
    "df_hr.head()"
   ]
  },
  {
   "cell_type": "code",
   "execution_count": 5,
   "id": "6635fc77",
   "metadata": {},
   "outputs": [
    {
     "data": {
      "text/plain": [
       "(446, 4)"
      ]
     },
     "execution_count": 5,
     "metadata": {},
     "output_type": "execute_result"
    }
   ],
   "source": [
    "df_hr.shape"
   ]
  },
  {
   "cell_type": "code",
   "execution_count": 6,
   "id": "8bf9ec0f",
   "metadata": {},
   "outputs": [
    {
     "name": "stdout",
     "output_type": "stream",
     "text": [
      "data has 446 rows and 4 columns\n"
     ]
    }
   ],
   "source": [
    "print('data has {} rows and {} columns'.format(df_hr.shape[0], df_hr.shape[1]))"
   ]
  },
  {
   "cell_type": "markdown",
   "id": "36117af7",
   "metadata": {},
   "source": [
    "# Data Understanding"
   ]
  },
  {
   "cell_type": "code",
   "execution_count": 7,
   "id": "891ab2c8",
   "metadata": {},
   "outputs": [
    {
     "data": {
      "text/html": [
       "<div>\n",
       "<style scoped>\n",
       "    .dataframe tbody tr th:only-of-type {\n",
       "        vertical-align: middle;\n",
       "    }\n",
       "\n",
       "    .dataframe tbody tr th {\n",
       "        vertical-align: top;\n",
       "    }\n",
       "\n",
       "    .dataframe thead th {\n",
       "        text-align: right;\n",
       "    }\n",
       "</style>\n",
       "<table border=\"1\" class=\"dataframe\">\n",
       "  <thead>\n",
       "    <tr style=\"text-align: right;\">\n",
       "      <th></th>\n",
       "      <th>attrition</th>\n",
       "      <th>performance_rating</th>\n",
       "      <th>sales_quota_pct</th>\n",
       "    </tr>\n",
       "  </thead>\n",
       "  <tbody>\n",
       "    <tr>\n",
       "      <th>count</th>\n",
       "      <td>446.000000</td>\n",
       "      <td>446.000000</td>\n",
       "      <td>446.000000</td>\n",
       "    </tr>\n",
       "    <tr>\n",
       "      <th>mean</th>\n",
       "      <td>0.213004</td>\n",
       "      <td>2.894619</td>\n",
       "      <td>1.082607</td>\n",
       "    </tr>\n",
       "    <tr>\n",
       "      <th>std</th>\n",
       "      <td>0.409891</td>\n",
       "      <td>0.683755</td>\n",
       "      <td>0.710042</td>\n",
       "    </tr>\n",
       "    <tr>\n",
       "      <th>min</th>\n",
       "      <td>0.000000</td>\n",
       "      <td>1.000000</td>\n",
       "      <td>-0.710827</td>\n",
       "    </tr>\n",
       "    <tr>\n",
       "      <th>25%</th>\n",
       "      <td>0.000000</td>\n",
       "      <td>2.000000</td>\n",
       "      <td>0.584444</td>\n",
       "    </tr>\n",
       "    <tr>\n",
       "      <th>50%</th>\n",
       "      <td>0.000000</td>\n",
       "      <td>3.000000</td>\n",
       "      <td>1.070143</td>\n",
       "    </tr>\n",
       "    <tr>\n",
       "      <th>75%</th>\n",
       "      <td>0.000000</td>\n",
       "      <td>3.000000</td>\n",
       "      <td>1.532488</td>\n",
       "    </tr>\n",
       "    <tr>\n",
       "      <th>max</th>\n",
       "      <td>1.000000</td>\n",
       "      <td>5.000000</td>\n",
       "      <td>3.666740</td>\n",
       "    </tr>\n",
       "  </tbody>\n",
       "</table>\n",
       "</div>"
      ],
      "text/plain": [
       "        attrition  performance_rating  sales_quota_pct\n",
       "count  446.000000          446.000000       446.000000\n",
       "mean     0.213004            2.894619         1.082607\n",
       "std      0.409891            0.683755         0.710042\n",
       "min      0.000000            1.000000        -0.710827\n",
       "25%      0.000000            2.000000         0.584444\n",
       "50%      0.000000            3.000000         1.070143\n",
       "75%      0.000000            3.000000         1.532488\n",
       "max      1.000000            5.000000         3.666740"
      ]
     },
     "execution_count": 7,
     "metadata": {},
     "output_type": "execute_result"
    }
   ],
   "source": [
    "df_hr.describe()"
   ]
  },
  {
   "cell_type": "code",
   "execution_count": 8,
   "id": "d679f439",
   "metadata": {},
   "outputs": [
    {
     "data": {
      "text/plain": [
       "attrition               2\n",
       "performance_rating      5\n",
       "sales_quota_pct       446\n",
       "recruiting_source       4\n",
       "dtype: int64"
      ]
     },
     "execution_count": 8,
     "metadata": {},
     "output_type": "execute_result"
    }
   ],
   "source": [
    "df_hr.nunique()"
   ]
  },
  {
   "cell_type": "code",
   "execution_count": 9,
   "id": "4536fe86",
   "metadata": {},
   "outputs": [
    {
     "name": "stdout",
     "output_type": "stream",
     "text": [
      "<class 'pandas.core.frame.DataFrame'>\n",
      "RangeIndex: 446 entries, 0 to 445\n",
      "Data columns (total 4 columns):\n",
      " #   Column              Non-Null Count  Dtype  \n",
      "---  ------              --------------  -----  \n",
      " 0   attrition           446 non-null    int64  \n",
      " 1   performance_rating  446 non-null    int64  \n",
      " 2   sales_quota_pct     446 non-null    float64\n",
      " 3   recruiting_source   241 non-null    object \n",
      "dtypes: float64(1), int64(2), object(1)\n",
      "memory usage: 14.1+ KB\n"
     ]
    }
   ],
   "source": [
    "df_hr.info()"
   ]
  },
  {
   "cell_type": "code",
   "execution_count": 10,
   "id": "3fac0d5f",
   "metadata": {},
   "outputs": [
    {
     "data": {
      "text/plain": [
       "0"
      ]
     },
     "execution_count": 10,
     "metadata": {},
     "output_type": "execute_result"
    }
   ],
   "source": [
    "df_hr.duplicated().sum()"
   ]
  },
  {
   "cell_type": "code",
   "execution_count": 11,
   "id": "fb420f0f",
   "metadata": {},
   "outputs": [
    {
     "data": {
      "text/plain": [
       "attrition               0\n",
       "performance_rating      0\n",
       "sales_quota_pct         0\n",
       "recruiting_source     205\n",
       "dtype: int64"
      ]
     },
     "execution_count": 11,
     "metadata": {},
     "output_type": "execute_result"
    }
   ],
   "source": [
    "df_hr.isna().sum()"
   ]
  },
  {
   "cell_type": "markdown",
   "id": "4bef8697",
   "metadata": {},
   "source": [
    "Column recruitment_source contains 205 null values."
   ]
  },
  {
   "cell_type": "markdown",
   "id": "7e9f7be3",
   "metadata": {},
   "source": [
    "### Handling NULL values in Categorical column"
   ]
  },
  {
   "cell_type": "code",
   "execution_count": 12,
   "id": "56e0b7b4",
   "metadata": {},
   "outputs": [],
   "source": [
    "df_hr['recruiting_source']=df_hr['recruiting_source'].fillna(df_hr['recruiting_source'].mode()[0])"
   ]
  },
  {
   "cell_type": "code",
   "execution_count": 13,
   "id": "adf3ea92",
   "metadata": {},
   "outputs": [
    {
     "data": {
      "text/plain": [
       "0    Applied Online\n",
       "dtype: object"
      ]
     },
     "execution_count": 13,
     "metadata": {},
     "output_type": "execute_result"
    }
   ],
   "source": [
    "df_hr['recruiting_source'].mode()"
   ]
  },
  {
   "cell_type": "code",
   "execution_count": 14,
   "id": "8f83aac3",
   "metadata": {},
   "outputs": [
    {
     "data": {
      "text/plain": [
       "attrition             0\n",
       "performance_rating    0\n",
       "sales_quota_pct       0\n",
       "recruiting_source     0\n",
       "dtype: int64"
      ]
     },
     "execution_count": 14,
     "metadata": {},
     "output_type": "execute_result"
    }
   ],
   "source": [
    "df_hr.isna().sum()"
   ]
  },
  {
   "cell_type": "code",
   "execution_count": 15,
   "id": "7f3409a6",
   "metadata": {},
   "outputs": [
    {
     "data": {
      "text/plain": [
       "0      Applied Online\n",
       "1      Applied Online\n",
       "2              Campus\n",
       "3      Applied Online\n",
       "4      Applied Online\n",
       "            ...      \n",
       "441            Campus\n",
       "442          Referral\n",
       "443    Applied Online\n",
       "444    Applied Online\n",
       "445    Applied Online\n",
       "Name: recruiting_source, Length: 446, dtype: object"
      ]
     },
     "execution_count": 15,
     "metadata": {},
     "output_type": "execute_result"
    }
   ],
   "source": [
    "df_hr['recruiting_source']"
   ]
  },
  {
   "cell_type": "markdown",
   "id": "c7b8c017",
   "metadata": {},
   "source": [
    "# Exploratory Data Analysis"
   ]
  },
  {
   "cell_type": "markdown",
   "id": "6d9bc04c",
   "metadata": {},
   "source": [
    "### Univariate Data Analysis"
   ]
  },
  {
   "cell_type": "code",
   "execution_count": 16,
   "id": "5f47d9ea",
   "metadata": {},
   "outputs": [
    {
     "data": {
      "image/png": "[encoded data removed]",
      "text/plain": [
       "<Figure size 360x288 with 1 Axes>"
      ]
     },
     "metadata": {
      "needs_background": "light"
     },
     "output_type": "display_data"
    }
   ],
   "source": [
    "plt.figure(figsize=(5,4))\n",
    "sns.countplot(df_hr['recruiting_source'],data=df_hr)\n",
    "plt.show()"
   ]
  },
  {
   "cell_type": "code",
   "execution_count": 17,
   "id": "6766e378",
   "metadata": {},
   "outputs": [
    {
     "data": {
      "image/png": "[encoded data removed]",
      "text/plain": [
       "<Figure size 360x288 with 1 Axes>"
      ]
     },
     "metadata": {
      "needs_background": "light"
     },
     "output_type": "display_data"
    }
   ],
   "source": [
    "plt.figure(figsize=(5,4))\n",
    "sns.countplot(df_hr['attrition'],data=df_hr)\n",
    "plt.show()"
   ]
  },
  {
   "cell_type": "markdown",
   "id": "94fd9dff",
   "metadata": {},
   "source": [
    "Data is highly imbalanced "
   ]
  },
  {
   "cell_type": "code",
   "execution_count": 18,
   "id": "f978313a",
   "metadata": {},
   "outputs": [
    {
     "data": {
      "image/png": "[encoded data removed]",
      "text/plain": [
       "<Figure size 432x288 with 1 Axes>"
      ]
     },
     "metadata": {
      "needs_background": "light"
     },
     "output_type": "display_data"
    }
   ],
   "source": [
    "#plt.figure(figsize=(5,4))\n",
    "df_hr['sales_quota_pct'].plot(kind='box', title='Sales Quota Pct') \n",
    "plt.show()"
   ]
  },
  {
   "cell_type": "markdown",
   "id": "a8643589",
   "metadata": {},
   "source": [
    "Check for outliers"
   ]
  },
  {
   "cell_type": "code",
   "execution_count": 19,
   "id": "d05820da",
   "metadata": {},
   "outputs": [],
   "source": [
    "def Check_Outliers(data,columnList):\n",
    "\n",
    "    plt.figure(figsize=[6,5])\n",
    "    plt.subplots_adjust(wspace=0.4,hspace=0.3)\n",
    "\n",
    "    for i,j in enumerate(columnList):\n",
    "        plt.subplot(2,2,i+1)\n",
    "\n",
    "        sns.boxplot(y=data[j])    \n",
    "\n",
    "        plt.suptitle(\"\\nChecking Outliers using Boxplot\",fontsize=10,color=\"blue\")\n",
    "        plt.ylabel(None)\n",
    "        plt.title(j,fontsize=10,color='brown')\n"
   ]
  },
  {
   "cell_type": "code",
   "execution_count": 20,
   "id": "c4e43897",
   "metadata": {},
   "outputs": [
    {
     "data": {
      "image/png": "[encoded data removed]",
      "text/plain": [
       "<Figure size 432x360 with 2 Axes>"
      ]
     },
     "metadata": {
      "needs_background": "light"
     },
     "output_type": "display_data"
    }
   ],
   "source": [
    "num_cols = [\"performance_rating\",\t\"sales_quota_pct\"]\n",
    "\n",
    "Check_Outliers(df_hr,num_cols)"
   ]
  },
  {
   "cell_type": "markdown",
   "id": "4bd684cc",
   "metadata": {},
   "source": [
    "\"Performance rating\" and \"Sales_quota_pct\":Both these variables contain outliers as can be seen in the boxplot So, These outliers needs to be treated for these variables."
   ]
  },
  {
   "cell_type": "code",
   "execution_count": 21,
   "id": "fb0408a1",
   "metadata": {},
   "outputs": [],
   "source": [
    "# Defining user define function to treat outliers via capping and flooring\n",
    "\n",
    "def Outlier_treatment(df,columnList):\n",
    "    for i in columnList:\n",
    "        q1 = df[i].describe()[\"25%\"]\n",
    "        q3 = df[i].describe()[\"75%\"]\n",
    "        IQR = q3 - q1\n",
    "\n",
    "        upper_bound = q3 + 1.5*IQR\n",
    "        lower_bound = q1 - 1.5*IQR\n",
    "\n",
    "        # capping upper_bound\n",
    "        df[i] = np.where(df[i] > upper_bound, upper_bound,df[i])\n",
    "\n",
    "        # flooring lower_bound\n",
    "        df[i] = np.where(df[i] < lower_bound, lower_bound,df[i])"
   ]
  },
  {
   "cell_type": "code",
   "execution_count": 22,
   "id": "30ece716",
   "metadata": {},
   "outputs": [],
   "source": [
    "# Checking outliers for numerical variables other than target variable \n",
    "capping_cols = [\"performance_rating\",\"sales_quota_pct\"]\n",
    "\n",
    "# UDF \n",
    "Outlier_treatment(df_hr,capping_cols)"
   ]
  },
  {
   "cell_type": "markdown",
   "id": "8bbebaec",
   "metadata": {},
   "source": [
    "# Bivariate Analysis "
   ]
  },
  {
   "cell_type": "code",
   "execution_count": 23,
   "id": "47c804ad",
   "metadata": {},
   "outputs": [
    {
     "data": {
      "text/plain": [
       "<Figure size 1152x288 with 0 Axes>"
      ]
     },
     "metadata": {},
     "output_type": "display_data"
    },
    {
     "data": {
      "image/png": "[encoded data removed]",
      "text/plain": [
       "<Figure size 408x360 with 6 Axes>"
      ]
     },
     "metadata": {
      "needs_background": "light"
     },
     "output_type": "display_data"
    }
   ],
   "source": [
    "plt.figure(figsize=(16, 4))\n",
    "sns.pairplot(data=df_hr,vars=num_cols,hue=\"attrition\")                                  \n",
    "plt.show()"
   ]
  },
  {
   "cell_type": "code",
   "execution_count": 24,
   "id": "2a2e97d6",
   "metadata": {},
   "outputs": [
    {
     "data": {
      "image/png": "[encoded data removed]",
      "text/plain": [
       "<Figure size 432x288 with 2 Axes>"
      ]
     },
     "metadata": {
      "needs_background": "light"
     },
     "output_type": "display_data"
    }
   ],
   "source": [
    "# Heatmap to show correlation between numerical variables\n",
    "sns.heatmap(data=df_hr[num_cols].corr(),cmap=\"Blues\",annot=True)\n",
    "plt.show()"
   ]
  },
  {
   "cell_type": "code",
   "execution_count": 25,
   "id": "3ae8d986",
   "metadata": {},
   "outputs": [
    {
     "data": {
      "image/png": "[encoded data removed]",
      "text/plain": [
       "<Figure size 720x360 with 2 Axes>"
      ]
     },
     "metadata": {
      "needs_background": "light"
     },
     "output_type": "display_data"
    }
   ],
   "source": [
    "# Boxplot with attrition as hue\n",
    "plt.figure(figsize=(10, 5))\n",
    "plt.subplot(1,2,1)\n",
    "sns.boxplot(y = 'performance_rating', x = 'attrition', data = df_hr)\n",
    "plt.subplot(1,2,2)\n",
    "sns.boxplot(y = 'sales_quota_pct', x = 'attrition', data = df_hr)\n",
    "plt.show()"
   ]
  },
  {
   "cell_type": "markdown",
   "id": "c88493c6",
   "metadata": {},
   "source": [
    "# Identify groups in the dataset"
   ]
  },
  {
   "cell_type": "code",
   "execution_count": 27,
   "id": "c09b6617",
   "metadata": {},
   "outputs": [
    {
     "data": {
      "image/png": "[encoded data removed]",
      "text/plain": [
       "<Figure size 432x288 with 1 Axes>"
      ]
     },
     "metadata": {
      "needs_background": "light"
     },
     "output_type": "display_data"
    }
   ],
   "source": [
    "# Which recruiting source resulted highest sales_quota_pct?\n",
    "Sales_Quota_Pct = df_hr.groupby('recruiting_source')[['sales_quota_pct']].mean().sort_values('sales_quota_pct')\n",
    "Sales_Quota_Pct.plot(kind='bar')\n",
    "plt.ylabel('Sales quota retainment (%)')\n",
    "plt.show()"
   ]
  },
  {
   "cell_type": "markdown",
   "id": "1cdb4e8f",
   "metadata": {},
   "source": [
    "Recruitment source applied online performed higher average sales_quota_pct than others.\n"
   ]
  },
  {
   "cell_type": "code",
   "execution_count": 28,
   "id": "c5046141",
   "metadata": {},
   "outputs": [
    {
     "data": {
      "image/png": "[encoded data removed]",
      "text/plain": [
       "<Figure size 432x288 with 1 Axes>"
      ]
     },
     "metadata": {
      "needs_background": "light"
     },
     "output_type": "display_data"
    }
   ],
   "source": [
    "# Which recruiting source resulted in highest perfromance rating?\n",
    "Perf_rate= df_hr.groupby('recruiting_source')[['performance_rating']].mean().sort_values('performance_rating')\n",
    "Perf_rate.plot(kind='bar')\n",
    "plt.ylabel('performance_rating')\n",
    "plt.show()"
   ]
  },
  {
   "cell_type": "markdown",
   "id": "9589084f",
   "metadata": {},
   "source": [
    "This shows that the perfromance rating of the employees who were hired via \"Campus\" channel which is higher than others. However the differences are small."
   ]
  },
  {
   "cell_type": "code",
   "execution_count": 32,
   "id": "5330d216",
   "metadata": {},
   "outputs": [
    {
     "data": {
      "image/png": "[encoded data removed]",
      "text/plain": [
       "<Figure size 432x288 with 1 Axes>"
      ]
     },
     "metadata": {
      "needs_background": "light"
     },
     "output_type": "display_data"
    }
   ],
   "source": [
    "# Which hires had lower attrition rate?¶\n",
    "# Another quality of hire metric you can consider is the attrition rate, or how often hires leave the company.\n",
    "\n",
    "Att_rate= df_hr.groupby('recruiting_source')[['attrition']].mean().sort_values('attrition')\n",
    "Att_rate.plot(kind='bar')\n",
    "plt.ylabel('Attrition_rate')\n",
    "plt.show()"
   ]
  },
  {
   "cell_type": "markdown",
   "id": "52f72d2f",
   "metadata": {},
   "source": [
    "This shows how attrition rate is highest for hires coming through Search Firms, while lowest for hires coming from \"Applied Online\"."
   ]
  },
  {
   "cell_type": "markdown",
   "id": "46ba449f",
   "metadata": {},
   "source": [
    "## Get Average Sales Numbers and Attrition Numbers"
   ]
  },
  {
   "cell_type": "markdown",
   "id": "ed9bd863",
   "metadata": {},
   "source": [
    "### 1. Print out the average Sales Number grouped by Recruiting Source"
   ]
  },
  {
   "cell_type": "code",
   "execution_count": 30,
   "id": "b05f05b4",
   "metadata": {},
   "outputs": [],
   "source": [
    "Avg_Sales_number = df_hr.groupby('recruiting_source')[['sales_quota_pct']].mean()"
   ]
  },
  {
   "cell_type": "code",
   "execution_count": 31,
   "id": "e06344d7",
   "metadata": {},
   "outputs": [
    {
     "data": {
      "text/html": [
       "<div>\n",
       "<style scoped>\n",
       "    .dataframe tbody tr th:only-of-type {\n",
       "        vertical-align: middle;\n",
       "    }\n",
       "\n",
       "    .dataframe tbody tr th {\n",
       "        vertical-align: top;\n",
       "    }\n",
       "\n",
       "    .dataframe thead th {\n",
       "        text-align: right;\n",
       "    }\n",
       "</style>\n",
       "<table border=\"1\" class=\"dataframe\">\n",
       "  <thead>\n",
       "    <tr style=\"text-align: right;\">\n",
       "      <th></th>\n",
       "      <th>sales_quota_pct</th>\n",
       "    </tr>\n",
       "    <tr>\n",
       "      <th>recruiting_source</th>\n",
       "      <th></th>\n",
       "    </tr>\n",
       "  </thead>\n",
       "  <tbody>\n",
       "    <tr>\n",
       "      <th>Applied Online</th>\n",
       "      <td>1.125609</td>\n",
       "    </tr>\n",
       "    <tr>\n",
       "      <th>Campus</th>\n",
       "      <td>0.901683</td>\n",
       "    </tr>\n",
       "    <tr>\n",
       "      <th>Referral</th>\n",
       "      <td>1.007372</td>\n",
       "    </tr>\n",
       "    <tr>\n",
       "      <th>Search Firm</th>\n",
       "      <td>0.886960</td>\n",
       "    </tr>\n",
       "  </tbody>\n",
       "</table>\n",
       "</div>"
      ],
      "text/plain": [
       "                   sales_quota_pct\n",
       "recruiting_source                 \n",
       "Applied Online            1.125609\n",
       "Campus                    0.901683\n",
       "Referral                  1.007372\n",
       "Search Firm               0.886960"
      ]
     },
     "execution_count": 31,
     "metadata": {},
     "output_type": "execute_result"
    }
   ],
   "source": [
    "Avg_Sales_number"
   ]
  },
  {
   "cell_type": "markdown",
   "id": "b0de5a41",
   "metadata": {},
   "source": [
    "### 2. Print out the average Attrition Number grouped by Recruiting Source"
   ]
  },
  {
   "cell_type": "code",
   "execution_count": 33,
   "id": "40bab1b7",
   "metadata": {},
   "outputs": [],
   "source": [
    "Avg_Att_Number= df_hr.groupby('recruiting_source')[['attrition']].mean()"
   ]
  },
  {
   "cell_type": "code",
   "execution_count": 34,
   "id": "616bae32",
   "metadata": {},
   "outputs": [
    {
     "data": {
      "text/html": [
       "<div>\n",
       "<style scoped>\n",
       "    .dataframe tbody tr th:only-of-type {\n",
       "        vertical-align: middle;\n",
       "    }\n",
       "\n",
       "    .dataframe tbody tr th {\n",
       "        vertical-align: top;\n",
       "    }\n",
       "\n",
       "    .dataframe thead th {\n",
       "        text-align: right;\n",
       "    }\n",
       "</style>\n",
       "<table border=\"1\" class=\"dataframe\">\n",
       "  <thead>\n",
       "    <tr style=\"text-align: right;\">\n",
       "      <th></th>\n",
       "      <th>attrition</th>\n",
       "    </tr>\n",
       "    <tr>\n",
       "      <th>recruiting_source</th>\n",
       "      <th></th>\n",
       "    </tr>\n",
       "  </thead>\n",
       "  <tbody>\n",
       "    <tr>\n",
       "      <th>Applied Online</th>\n",
       "      <td>0.176119</td>\n",
       "    </tr>\n",
       "    <tr>\n",
       "      <th>Campus</th>\n",
       "      <td>0.285714</td>\n",
       "    </tr>\n",
       "    <tr>\n",
       "      <th>Referral</th>\n",
       "      <td>0.333333</td>\n",
       "    </tr>\n",
       "    <tr>\n",
       "      <th>Search Firm</th>\n",
       "      <td>0.500000</td>\n",
       "    </tr>\n",
       "  </tbody>\n",
       "</table>\n",
       "</div>"
      ],
      "text/plain": [
       "                   attrition\n",
       "recruiting_source           \n",
       "Applied Online      0.176119\n",
       "Campus              0.285714\n",
       "Referral            0.333333\n",
       "Search Firm         0.500000"
      ]
     },
     "execution_count": 34,
     "metadata": {},
     "output_type": "execute_result"
    }
   ],
   "source": [
    "Avg_Att_Number"
   ]
  },
  {
   "cell_type": "markdown",
   "id": "c65091b3",
   "metadata": {},
   "source": [
    "### 3. Sources that have high Sales numbers and low Attrition numbers."
   ]
  },
  {
   "cell_type": "code",
   "execution_count": 43,
   "id": "b2cddf16",
   "metadata": {},
   "outputs": [],
   "source": [
    "High_Sales_number = df_hr.groupby('recruiting_source')[['sales_quota_pct']].mean().sort_values('sales_quota_pct', ascending=False)"
   ]
  },
  {
   "cell_type": "code",
   "execution_count": 52,
   "id": "d17c8d83",
   "metadata": {},
   "outputs": [
    {
     "data": {
      "text/html": [
       "<div>\n",
       "<style scoped>\n",
       "    .dataframe tbody tr th:only-of-type {\n",
       "        vertical-align: middle;\n",
       "    }\n",
       "\n",
       "    .dataframe tbody tr th {\n",
       "        vertical-align: top;\n",
       "    }\n",
       "\n",
       "    .dataframe thead th {\n",
       "        text-align: right;\n",
       "    }\n",
       "</style>\n",
       "<table border=\"1\" class=\"dataframe\">\n",
       "  <thead>\n",
       "    <tr style=\"text-align: right;\">\n",
       "      <th></th>\n",
       "      <th>sales_quota_pct</th>\n",
       "    </tr>\n",
       "    <tr>\n",
       "      <th>recruiting_source</th>\n",
       "      <th></th>\n",
       "    </tr>\n",
       "  </thead>\n",
       "  <tbody>\n",
       "    <tr>\n",
       "      <th>Applied Online</th>\n",
       "      <td>1.125609</td>\n",
       "    </tr>\n",
       "    <tr>\n",
       "      <th>Referral</th>\n",
       "      <td>1.007372</td>\n",
       "    </tr>\n",
       "    <tr>\n",
       "      <th>Campus</th>\n",
       "      <td>0.901683</td>\n",
       "    </tr>\n",
       "    <tr>\n",
       "      <th>Search Firm</th>\n",
       "      <td>0.886960</td>\n",
       "    </tr>\n",
       "  </tbody>\n",
       "</table>\n",
       "</div>"
      ],
      "text/plain": [
       "                   sales_quota_pct\n",
       "recruiting_source                 \n",
       "Applied Online            1.125609\n",
       "Referral                  1.007372\n",
       "Campus                    0.901683\n",
       "Search Firm               0.886960"
      ]
     },
     "execution_count": 52,
     "metadata": {},
     "output_type": "execute_result"
    }
   ],
   "source": [
    "High_Sales_number\n"
   ]
  },
  {
   "cell_type": "markdown",
   "id": "580189c3",
   "metadata": {},
   "source": [
    "Recruitment source which have High Sales number is \"Applied Online\"."
   ]
  },
  {
   "cell_type": "code",
   "execution_count": 54,
   "id": "7c843298",
   "metadata": {},
   "outputs": [],
   "source": [
    "Low_Att_Number= df_hr.groupby('recruiting_source')[['attrition']].mean().sort_values('attrition', ascending=True)"
   ]
  },
  {
   "cell_type": "code",
   "execution_count": 55,
   "id": "f9b99454",
   "metadata": {},
   "outputs": [
    {
     "data": {
      "text/html": [
       "<div>\n",
       "<style scoped>\n",
       "    .dataframe tbody tr th:only-of-type {\n",
       "        vertical-align: middle;\n",
       "    }\n",
       "\n",
       "    .dataframe tbody tr th {\n",
       "        vertical-align: top;\n",
       "    }\n",
       "\n",
       "    .dataframe thead th {\n",
       "        text-align: right;\n",
       "    }\n",
       "</style>\n",
       "<table border=\"1\" class=\"dataframe\">\n",
       "  <thead>\n",
       "    <tr style=\"text-align: right;\">\n",
       "      <th></th>\n",
       "      <th>attrition</th>\n",
       "    </tr>\n",
       "    <tr>\n",
       "      <th>recruiting_source</th>\n",
       "      <th></th>\n",
       "    </tr>\n",
       "  </thead>\n",
       "  <tbody>\n",
       "    <tr>\n",
       "      <th>Applied Online</th>\n",
       "      <td>0.176119</td>\n",
       "    </tr>\n",
       "    <tr>\n",
       "      <th>Campus</th>\n",
       "      <td>0.285714</td>\n",
       "    </tr>\n",
       "    <tr>\n",
       "      <th>Referral</th>\n",
       "      <td>0.333333</td>\n",
       "    </tr>\n",
       "    <tr>\n",
       "      <th>Search Firm</th>\n",
       "      <td>0.500000</td>\n",
       "    </tr>\n",
       "  </tbody>\n",
       "</table>\n",
       "</div>"
      ],
      "text/plain": [
       "                   attrition\n",
       "recruiting_source           \n",
       "Applied Online      0.176119\n",
       "Campus              0.285714\n",
       "Referral            0.333333\n",
       "Search Firm         0.500000"
      ]
     },
     "execution_count": 55,
     "metadata": {},
     "output_type": "execute_result"
    }
   ],
   "source": [
    "Low_Att_Number"
   ]
  },
  {
   "cell_type": "markdown",
   "id": "5edc1c40",
   "metadata": {},
   "source": [
    "Recruitment source which have low attrition number is \"Applied Online\"."
   ]
  },
  {
   "cell_type": "code",
   "execution_count": null,
   "id": "13744edf",
   "metadata": {},
   "outputs": [],
   "source": []
  }
 ],
 "metadata": {
  "kernelspec": {
   "display_name": "Python 3 (ipykernel)",
   "language": "python",
   "name": "python3"
  },
  "language_info": {
   "codemirror_mode": {
    "name": "ipython",
    "version": 3
   },
   "file_extension": ".py",
   "mimetype": "text/x-python",
   "name": "python",
   "nbconvert_exporter": "python",
   "pygments_lexer": "ipython3",
   "version": "3.9.7"
  }
 },
 "nbformat": 4,
 "nbformat_minor": 5
}
